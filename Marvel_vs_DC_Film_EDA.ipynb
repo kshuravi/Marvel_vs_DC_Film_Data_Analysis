{
  "nbformat": 4,
  "nbformat_minor": 0,
  "metadata": {
    "colab": {
      "name": "Marvel_vs_DC_Film_EDA.ipynb",
      "provenance": [],
      "collapsed_sections": [
        "QejoS9jLE-Tc",
        "ftHy1oSjN7Rn",
        "YF9y_jafPZTP",
        "TCHHLP4zPvS5",
        "1niAWwjkQYDm",
        "9aeKD6OjRGN1"
      ],
      "authorship_tag": "ABX9TyMxxMZ6PeBTxvRFKBO9YBXO",
      "include_colab_link": true
    },
    "kernelspec": {
      "name": "python3",
      "display_name": "Python 3"
    },
    "language_info": {
      "name": "python"
    }
  },
  "cells": [
    {
      "cell_type": "markdown",
      "metadata": {
        "id": "view-in-github",
        "colab_type": "text"
      },
      "source": [
        "<a href=\"https://colab.research.google.com/github/kshuravi/Marvel_vs_DC_Film_EDA/blob/main/Marvel_vs_DC_Film_EDA.ipynb\" target=\"_parent\"><img src=\"https://colab.research.google.com/assets/colab-badge.svg\" alt=\"Open In Colab\"/></a>"
      ]
    },
    {
      "cell_type": "markdown",
      "metadata": {
        "id": "_jdXGijDqo1W"
      },
      "source": [
        "## Introduction"
      ]
    },
    {
      "cell_type": "markdown",
      "metadata": {
        "id": "dp7SDDytE-YG"
      },
      "source": [
        "The goal of this project is to scrape tables from websites, clean them and analyse data. I came up with a topic that interests me. FILMS! Not any film, more precisely SUPERHERO FILMS! (Apologies for the caps lock though)\n",
        "\n",
        "I scraped tables that contain the details of the Live Action Films based on Marvel Comics and DC Comics characters. These tables are located in two different links on wikipedia. The tables have similar features, e.g. \"Year\", \"Title\", \"Production studio(s)\", \"Notes\". Scraping them was not an easy job for me as a beginner in Data Science. But, I pulled it off anyway!\n",
        "\n",
        "The areas that I have focused on are:\n",
        "\n",
        "* How many Live Action Films were produced based on DC Comics and Marvel Comics?\n",
        "* Which comics publication based live action films got more nominations for the Oscars than the other?\n",
        "* Which live action film got most nominations?\n",
        "* Which live action film is responsible for getting overall more nominations for its comic by beating the other? (This one surprised me!)\n",
        "* Which comic based film production got more Oscar Win Counts?\n",
        "\n",
        "I have excluded the details of the upcoming films as they do not contribute any major information for my analysis\n"
      ]
    },
    {
      "cell_type": "markdown",
      "metadata": {
        "id": "QejoS9jLE-Tc"
      },
      "source": [
        "## Importing the necessary libraries"
      ]
    },
    {
      "cell_type": "code",
      "metadata": {
        "id": "4la7-IWPaKIp"
      },
      "source": [
        "import bs4 as bs\n",
        "import urllib.request\n",
        "import pandas as pd\n",
        "import numpy as np\n",
        "import seaborn as sns\n",
        "import re\n",
        "from pandas import DataFrame\n",
        "import matplotlib.pyplot as plt\n",
        "from nltk import flatten\n",
        "sns.set()\n",
        "%matplotlib inline"
      ],
      "execution_count": null,
      "outputs": []
    },
    {
      "cell_type": "markdown",
      "metadata": {
        "id": "ftHy1oSjN7Rn"
      },
      "source": [
        "## Scraping data for List of Live Action Films based on Marvel Comics Publications"
      ]
    },
    {
      "cell_type": "code",
      "metadata": {
        "id": "K-RZqRVXL1_c"
      },
      "source": [
        "sauce1 = urllib.request.urlopen(\"https://en.wikipedia.org/wiki/List_of_films_based_on_Marvel_Comics_publications\")\n",
        "soup1 = bs.BeautifulSoup(sauce1, 'lxml')"
      ],
      "execution_count": null,
      "outputs": []
    },
    {
      "cell_type": "markdown",
      "metadata": {
        "id": "lpDFDlU1Od1t"
      },
      "source": [
        "Scraping the column names"
      ]
    },
    {
      "cell_type": "code",
      "metadata": {
        "colab": {
          "base_uri": "https://localhost:8080/"
        },
        "id": "jOdz1Rs1G6uQ",
        "outputId": "22760068-ad3a-4759-b882-742aa3e78318"
      },
      "source": [
        "# Scraping the column names\n",
        "table1 = soup1.find('table')\n",
        "tbody1 = table1.select(\"tbody\")\n",
        "th1 = table1.select(\"th\")\n",
        "column_names1 = [str(c.string).strip() for c in th1]\n",
        "column_names1"
      ],
      "execution_count": null,
      "outputs": [
        {
          "output_type": "execute_result",
          "data": {
            "text/plain": [
              "['Year', 'Title', 'Production studio(s)', 'Notes', 'Upcoming']"
            ]
          },
          "metadata": {
            "tags": []
          },
          "execution_count": 49
        }
      ]
    },
    {
      "cell_type": "markdown",
      "metadata": {
        "id": "M1OTdQ8kOjZB"
      },
      "source": [
        "Scraping the row data"
      ]
    },
    {
      "cell_type": "code",
      "metadata": {
        "id": "5yYI_1uQuo_M"
      },
      "source": [
        "# Finding all table rows and excluding unnecessary ones\n",
        "table_rows1 = table1.find_all('tr')[1:61]\n",
        "\n",
        "# Keeping them in a list with all table data\n",
        "row_list1 = []\n",
        "for tr1 in table_rows1:\n",
        "  td1 = tr1.find_all('td')\n",
        "  row1 = [str(i1.get_text()).strip() for i1 in td1]\n",
        "\n",
        "# Trying to find Year values in strings and converting them to integer\n",
        "  if len(row1[0])==4:\n",
        "    try:\n",
        "      row1[0]=int(row1[0])\n",
        "    except:\n",
        "      continue\n",
        "  row_list1.append(row1)\n",
        "\n",
        "# Fixing rowspan fetched from html. Also cleaning and replacing rows with appropriate values\n",
        "row_list_marvel = []\n",
        "for b1 in row_list1:\n",
        "  if isinstance(b1[0], str) and len(b1)==3:\n",
        "    b1.insert(0, '')\n",
        "  if isinstance(b1[0], str) and len(b1)==2:\n",
        "    b1.insert(0, '')\n",
        "    b1.insert(1, '')\n",
        "  if b1[1]=='':\n",
        "    try:\n",
        "      b1[1]=b1[2]\n",
        "      b1[2]=\"\"\n",
        "    except:\n",
        "      continue\n",
        "  if len(b1)==3:\n",
        "    b1.append('None')\n",
        "  else:\n",
        "    b1\n",
        "  row_list_marvel.append(b1)"
      ],
      "execution_count": null,
      "outputs": []
    },
    {
      "cell_type": "markdown",
      "metadata": {
        "id": "B0eEICqYPBEY"
      },
      "source": [
        "Cleaning the data"
      ]
    },
    {
      "cell_type": "code",
      "metadata": {
        "id": "6SmnUfux3aNM"
      },
      "source": [
        "# Converting the list into a dataframe\n",
        "df1 = pd.DataFrame(row_list_marvel, columns=column_names1[:4])\n",
        "\n",
        "# Replacing new missing values with NaN\n",
        "df1['Year'] = df1['Year'].replace('', np.NaN)\n",
        "\n",
        "# Filling the NaN values with the previous row data (fixing data from rowspan issue again!)\n",
        "df1['Year'] = df1['Year'].fillna(method='ffill')\n",
        "\n",
        "# Converting all Year values to integers that became floats in the process\n",
        "df1['Year'] = df1['Year'].astype(float).astype(int)\n",
        "\n",
        "# Switching some rows from Production Studio(s) with the None rows from Notes which appeared in the Notes after shifting the rows to right to fix rowspan issue\n",
        "wrongDataIdx1 = (df1['Notes'] == 'None')\n",
        "df1.loc[wrongDataIdx1, ['Production studio(s)', 'Notes']] = df1.loc[wrongDataIdx1, ['Notes', 'Production studio(s)']].values\n",
        "\n",
        "# Filling up None with NaN values and then with appropriate values\n",
        "df1['Production studio(s)'] = df1['Production studio(s)'].replace('None', np.NaN)\n",
        "df1['Production studio(s)'] = df1['Production studio(s)'].replace(\"\", np.NaN)\n",
        "df1['Production studio(s)'] = df1['Production studio(s)'].fillna(method='ffill')"
      ],
      "execution_count": null,
      "outputs": []
    },
    {
      "cell_type": "markdown",
      "metadata": {
        "id": "7bXxBYTgPL0n"
      },
      "source": [
        "Here's the cleaned table for List of Live Action Films based on Marvel Comics Publications"
      ]
    },
    {
      "cell_type": "code",
      "metadata": {
        "colab": {
          "base_uri": "https://localhost:8080/",
          "height": 198
        },
        "id": "brvnE6n5PIWX",
        "outputId": "e846ba7f-8018-434d-987e-cfe6a5e6f636"
      },
      "source": [
        "df1.head()"
      ],
      "execution_count": null,
      "outputs": [
        {
          "output_type": "execute_result",
          "data": {
            "text/html": [
              "<div>\n",
              "<style scoped>\n",
              "    .dataframe tbody tr th:only-of-type {\n",
              "        vertical-align: middle;\n",
              "    }\n",
              "\n",
              "    .dataframe tbody tr th {\n",
              "        vertical-align: top;\n",
              "    }\n",
              "\n",
              "    .dataframe thead th {\n",
              "        text-align: right;\n",
              "    }\n",
              "</style>\n",
              "<table border=\"1\" class=\"dataframe\">\n",
              "  <thead>\n",
              "    <tr style=\"text-align: right;\">\n",
              "      <th></th>\n",
              "      <th>Year</th>\n",
              "      <th>Title</th>\n",
              "      <th>Production studio(s)</th>\n",
              "      <th>Notes</th>\n",
              "    </tr>\n",
              "  </thead>\n",
              "  <tbody>\n",
              "    <tr>\n",
              "      <th>0</th>\n",
              "      <td>1944</td>\n",
              "      <td>Captain America</td>\n",
              "      <td>Republic Pictures</td>\n",
              "      <td>15-chapter serial film; Marvel was then known ...</td>\n",
              "    </tr>\n",
              "    <tr>\n",
              "      <th>1</th>\n",
              "      <td>1986</td>\n",
              "      <td>Howard the Duck</td>\n",
              "      <td>Universal Pictures</td>\n",
              "      <td>Co-produced by Lucasfilm</td>\n",
              "    </tr>\n",
              "    <tr>\n",
              "      <th>2</th>\n",
              "      <td>1989</td>\n",
              "      <td>The Punisher</td>\n",
              "      <td>New World Pictures</td>\n",
              "      <td>Direct-to-video in U.S.; limited theatrical re...</td>\n",
              "    </tr>\n",
              "    <tr>\n",
              "      <th>3</th>\n",
              "      <td>1990</td>\n",
              "      <td>Captain America</td>\n",
              "      <td>21st Century Film Corporation</td>\n",
              "      <td>Co-produced by Jadran Film; direct-to-video in...</td>\n",
              "    </tr>\n",
              "    <tr>\n",
              "      <th>4</th>\n",
              "      <td>1994</td>\n",
              "      <td>The Fantastic Four</td>\n",
              "      <td>Constantin Film</td>\n",
              "      <td>Unreleased</td>\n",
              "    </tr>\n",
              "  </tbody>\n",
              "</table>\n",
              "</div>"
            ],
            "text/plain": [
              "   Year  ...                                              Notes\n",
              "0  1944  ...  15-chapter serial film; Marvel was then known ...\n",
              "1  1986  ...                           Co-produced by Lucasfilm\n",
              "2  1989  ...  Direct-to-video in U.S.; limited theatrical re...\n",
              "3  1990  ...  Co-produced by Jadran Film; direct-to-video in...\n",
              "4  1994  ...                                         Unreleased\n",
              "\n",
              "[5 rows x 4 columns]"
            ]
          },
          "metadata": {
            "tags": []
          },
          "execution_count": 52
        }
      ]
    },
    {
      "cell_type": "code",
      "metadata": {
        "id": "KBpzh3D7ajcs"
      },
      "source": [
        ""
      ],
      "execution_count": null,
      "outputs": []
    },
    {
      "cell_type": "code",
      "metadata": {
        "id": "3shPFwvJajfE"
      },
      "source": [
        ""
      ],
      "execution_count": null,
      "outputs": []
    },
    {
      "cell_type": "markdown",
      "metadata": {
        "id": "YF9y_jafPZTP"
      },
      "source": [
        "## Scraping data for List of Live Action Films based on DC Comics Publications"
      ]
    },
    {
      "cell_type": "code",
      "metadata": {
        "id": "pjz2st1LHyVS"
      },
      "source": [
        "sauce2 = urllib.request.urlopen(\"https://en.wikipedia.org/wiki/List_of_films_based_on_DC_Comics_publications\")\n",
        "soup2 = bs.BeautifulSoup(sauce2, 'lxml')"
      ],
      "execution_count": null,
      "outputs": []
    },
    {
      "cell_type": "markdown",
      "metadata": {
        "id": "3azMM9Qw7zES"
      },
      "source": [
        "Scraping the column names"
      ]
    },
    {
      "cell_type": "code",
      "metadata": {
        "colab": {
          "base_uri": "https://localhost:8080/"
        },
        "id": "GoBBJkcz7biF",
        "outputId": "c4a07196-302f-45fd-fc38-5469ca421f7e"
      },
      "source": [
        "table2 = soup2.find('table')\n",
        "tbody2 = table2.select(\"tbody\")\n",
        "th2 = table2.select(\"th\")\n",
        "column_names2 = [str(c.string).strip() for c in th2]\n",
        "column_names2"
      ],
      "execution_count": null,
      "outputs": [
        {
          "output_type": "execute_result",
          "data": {
            "text/plain": [
              "['Year', 'Title', 'Production studio(s)', 'Notes', 'Upcoming']"
            ]
          },
          "metadata": {
            "tags": []
          },
          "execution_count": 54
        }
      ]
    },
    {
      "cell_type": "markdown",
      "metadata": {
        "id": "6FH8zS7j72xJ"
      },
      "source": [
        "Scraping the row data"
      ]
    },
    {
      "cell_type": "code",
      "metadata": {
        "id": "USWoMtse7biH"
      },
      "source": [
        "# Finding all table rows and excluding unnecessary ones\n",
        "table_rows2 = table2.find_all('tr')[1:35]\n",
        "\n",
        "# Keeping them in a list with all table data\n",
        "row_list2 = []\n",
        "for tr2 in table_rows2:\n",
        "  td2 = tr2.find_all('td')\n",
        "\n",
        "# Trying to find Year values in strings and converting them to integer\n",
        "  row2 = [str(i2.get_text()).strip() for i2 in td2]\n",
        "  if len(row2[0])==4:\n",
        "    try:\n",
        "      row2[0]=int(row2[0])\n",
        "    except:\n",
        "      continue\n",
        "  row_list2.append(row2)\n",
        "\n",
        "# Fixing rowspan fetched from html. Also cleaning and replacing rows with appropriate values\n",
        "row_list_dc = []\n",
        "for b2 in row_list2:\n",
        "  if isinstance(b2[0], str) and len(b2)==3:\n",
        "    b2.insert(0, '')\n",
        "  if isinstance(b2[0], str) and len(b2)==2:\n",
        "    b2.insert(0, '')\n",
        "    b2.insert(1, '')\n",
        "  if b2[1]=='':\n",
        "    try:\n",
        "      b2[1]=b2[2]\n",
        "      b2[2]=\"\"\n",
        "    except:\n",
        "      continue\n",
        "  if len(b2)==3:\n",
        "    b2.append('None')\n",
        "  else:\n",
        "    b2\n",
        "  row_list_dc.append(b2)"
      ],
      "execution_count": null,
      "outputs": []
    },
    {
      "cell_type": "markdown",
      "metadata": {
        "id": "BZ1KF54I751o"
      },
      "source": [
        "Cleaning the data"
      ]
    },
    {
      "cell_type": "code",
      "metadata": {
        "id": "AtvjEU6Z7biI"
      },
      "source": [
        "# Converting the list into a dataframe\n",
        "df2 = pd.DataFrame(row_list_dc, columns=column_names2[:4])\n",
        "\n",
        "# Replacing new missing values with NaN\n",
        "df2['Year'] = df2['Year'].replace('', np.NaN)\n",
        "\n",
        "# Filling the NaN values with the previous row data (fixing data from rowspan issue again!)\n",
        "df2['Year'] = df2['Year'].fillna(method='ffill')\n",
        "\n",
        "# Converting all Year values to integers that became floats in the process\n",
        "df2['Year'] = df2['Year'].astype(float).astype(int)\n",
        "\n",
        "# Switching some rows from Production Studio(s) with the None rows from Notes which appeared in the Notes after shifting the rows to right to fix rowspan issue\n",
        "wrongDataIdx2 = (df2['Notes'] == 'None')\n",
        "df2.loc[wrongDataIdx2, ['Production studio(s)', 'Notes']] = df2.loc[wrongDataIdx2, ['Notes', 'Production studio(s)']].values\n",
        "\n",
        "# Filling up None with NaN values and then with appropriate values\n",
        "df2['Production studio(s)'] = df2['Production studio(s)'].replace('None', np.NaN)\n",
        "df2['Production studio(s)'] = df2['Production studio(s)'].replace(\"\", np.NaN)\n",
        "df2['Production studio(s)'] = df2['Production studio(s)'].fillna(method='ffill')"
      ],
      "execution_count": null,
      "outputs": []
    },
    {
      "cell_type": "markdown",
      "metadata": {
        "id": "1DpHDGtT8A8n"
      },
      "source": [
        "Here's the cleaned table for List of Live Action Films based on DC Comics Publications"
      ]
    },
    {
      "cell_type": "code",
      "metadata": {
        "colab": {
          "base_uri": "https://localhost:8080/",
          "height": 198
        },
        "id": "aX-q3PM9PpPf",
        "outputId": "97bfb364-6794-4b3d-9cf1-4fe86c3d1ba8"
      },
      "source": [
        "df2.head()"
      ],
      "execution_count": null,
      "outputs": [
        {
          "output_type": "execute_result",
          "data": {
            "text/html": [
              "<div>\n",
              "<style scoped>\n",
              "    .dataframe tbody tr th:only-of-type {\n",
              "        vertical-align: middle;\n",
              "    }\n",
              "\n",
              "    .dataframe tbody tr th {\n",
              "        vertical-align: top;\n",
              "    }\n",
              "\n",
              "    .dataframe thead th {\n",
              "        text-align: right;\n",
              "    }\n",
              "</style>\n",
              "<table border=\"1\" class=\"dataframe\">\n",
              "  <thead>\n",
              "    <tr style=\"text-align: right;\">\n",
              "      <th></th>\n",
              "      <th>Year</th>\n",
              "      <th>Title</th>\n",
              "      <th>Production studio(s)</th>\n",
              "      <th>Notes</th>\n",
              "    </tr>\n",
              "  </thead>\n",
              "  <tbody>\n",
              "    <tr>\n",
              "      <th>0</th>\n",
              "      <td>1951</td>\n",
              "      <td>Superman and the Mole Men</td>\n",
              "      <td>Lippert Pictures</td>\n",
              "      <td>Theatrically-released pilot for the 1950s Adve...</td>\n",
              "    </tr>\n",
              "    <tr>\n",
              "      <th>1</th>\n",
              "      <td>1954</td>\n",
              "      <td>Stamp Day for Superman</td>\n",
              "      <td>United States Department of the Treasury</td>\n",
              "      <td>18-minute short film Government produced. In p...</td>\n",
              "    </tr>\n",
              "    <tr>\n",
              "      <th>2</th>\n",
              "      <td>1966</td>\n",
              "      <td>Batman</td>\n",
              "      <td>20th Century Fox</td>\n",
              "      <td>Related to the 1960s Batman television series</td>\n",
              "    </tr>\n",
              "    <tr>\n",
              "      <th>3</th>\n",
              "      <td>1978</td>\n",
              "      <td>Superman</td>\n",
              "      <td>Dovemead Film Export A.G./International Film P...</td>\n",
              "      <td>Won 1 Special Oscar, nominated for 3 more</td>\n",
              "    </tr>\n",
              "    <tr>\n",
              "      <th>4</th>\n",
              "      <td>1980</td>\n",
              "      <td>Superman II</td>\n",
              "      <td>Dovemead Film Export A.G./International Film P...</td>\n",
              "      <td>Director's cut titled Superman II: The Richard...</td>\n",
              "    </tr>\n",
              "  </tbody>\n",
              "</table>\n",
              "</div>"
            ],
            "text/plain": [
              "   Year  ...                                              Notes\n",
              "0  1951  ...  Theatrically-released pilot for the 1950s Adve...\n",
              "1  1954  ...  18-minute short film Government produced. In p...\n",
              "2  1966  ...      Related to the 1960s Batman television series\n",
              "3  1978  ...          Won 1 Special Oscar, nominated for 3 more\n",
              "4  1980  ...  Director's cut titled Superman II: The Richard...\n",
              "\n",
              "[5 rows x 4 columns]"
            ]
          },
          "metadata": {
            "tags": []
          },
          "execution_count": 57
        }
      ]
    },
    {
      "cell_type": "code",
      "metadata": {
        "id": "3RFVk0KsPuuk"
      },
      "source": [
        ""
      ],
      "execution_count": null,
      "outputs": []
    },
    {
      "cell_type": "code",
      "metadata": {
        "id": "Oci419HpPuw3"
      },
      "source": [
        ""
      ],
      "execution_count": null,
      "outputs": []
    },
    {
      "cell_type": "markdown",
      "metadata": {
        "id": "TCHHLP4zPvS5"
      },
      "source": [
        "##Merging two dataframes in one and adding a column that contains the name (in short) of the comics"
      ]
    },
    {
      "cell_type": "code",
      "metadata": {
        "id": "Z7MJQJmWSSP0"
      },
      "source": [
        "mc=df1\n",
        "mc['Comics'] = 'MC'\n",
        "\n",
        "dc=df2\n",
        "dc['Comics'] = 'DC'"
      ],
      "execution_count": null,
      "outputs": []
    },
    {
      "cell_type": "code",
      "metadata": {
        "colab": {
          "base_uri": "https://localhost:8080/"
        },
        "id": "HgX2QbC2jR-e",
        "outputId": "c82385d3-8815-4594-967f-5ff153f9d102"
      },
      "source": [
        "mcdc = mc.append(dc).sort_values('Year', ascending=True)\n",
        "mcdc.head()"
      ],
      "execution_count": null,
      "outputs": [
        {
          "output_type": "execute_result",
          "data": {
            "text/html": [
              "<div>\n",
              "<style scoped>\n",
              "    .dataframe tbody tr th:only-of-type {\n",
              "        vertical-align: middle;\n",
              "    }\n",
              "\n",
              "    .dataframe tbody tr th {\n",
              "        vertical-align: top;\n",
              "    }\n",
              "\n",
              "    .dataframe thead th {\n",
              "        text-align: right;\n",
              "    }\n",
              "</style>\n",
              "<table border=\"1\" class=\"dataframe\">\n",
              "  <thead>\n",
              "    <tr style=\"text-align: right;\">\n",
              "      <th></th>\n",
              "      <th>Year</th>\n",
              "      <th>Title</th>\n",
              "      <th>Production studio(s)</th>\n",
              "      <th>Notes</th>\n",
              "      <th>Comics</th>\n",
              "    </tr>\n",
              "  </thead>\n",
              "  <tbody>\n",
              "    <tr>\n",
              "      <th>0</th>\n",
              "      <td>1944</td>\n",
              "      <td>Captain America</td>\n",
              "      <td>Republic Pictures</td>\n",
              "      <td>15-chapter serial film; Marvel was then known ...</td>\n",
              "      <td>MC</td>\n",
              "    </tr>\n",
              "    <tr>\n",
              "      <th>0</th>\n",
              "      <td>1951</td>\n",
              "      <td>Superman and the Mole Men</td>\n",
              "      <td>Lippert Pictures</td>\n",
              "      <td>Theatrically-released pilot for the 1950s Adve...</td>\n",
              "      <td>DC</td>\n",
              "    </tr>\n",
              "    <tr>\n",
              "      <th>1</th>\n",
              "      <td>1954</td>\n",
              "      <td>Stamp Day for Superman</td>\n",
              "      <td>United States Department of the Treasury</td>\n",
              "      <td>18-minute short film Government produced. In p...</td>\n",
              "      <td>DC</td>\n",
              "    </tr>\n",
              "    <tr>\n",
              "      <th>2</th>\n",
              "      <td>1966</td>\n",
              "      <td>Batman</td>\n",
              "      <td>20th Century Fox</td>\n",
              "      <td>Related to the 1960s Batman television series</td>\n",
              "      <td>DC</td>\n",
              "    </tr>\n",
              "    <tr>\n",
              "      <th>3</th>\n",
              "      <td>1978</td>\n",
              "      <td>Superman</td>\n",
              "      <td>Dovemead Film Export A.G./International Film P...</td>\n",
              "      <td>Won 1 Special Oscar, nominated for 3 more</td>\n",
              "      <td>DC</td>\n",
              "    </tr>\n",
              "  </tbody>\n",
              "</table>\n",
              "</div>"
            ],
            "text/plain": [
              "   Year  ... Comics\n",
              "0  1944  ...     MC\n",
              "0  1951  ...     DC\n",
              "1  1954  ...     DC\n",
              "2  1966  ...     DC\n",
              "3  1978  ...     DC\n",
              "\n",
              "[5 rows x 5 columns]"
            ]
          },
          "metadata": {
            "tags": []
          },
          "execution_count": 59
        }
      ]
    },
    {
      "cell_type": "code",
      "metadata": {
        "id": "xfnjhZ7vP8eQ"
      },
      "source": [
        ""
      ],
      "execution_count": null,
      "outputs": []
    },
    {
      "cell_type": "code",
      "metadata": {
        "id": "Tt5VN5yyP8g7"
      },
      "source": [
        ""
      ],
      "execution_count": null,
      "outputs": []
    },
    {
      "cell_type": "markdown",
      "metadata": {
        "id": "1niAWwjkQYDm"
      },
      "source": [
        "## Showing the number of all Live Action Films produced per year which are based on Marvel Comics and DC Comics up to 2020"
      ]
    },
    {
      "cell_type": "code",
      "metadata": {
        "id": "ajey7PMQgCZf"
      },
      "source": [
        "count = mcdc[[\"Year\", \"Comics\"]]\n",
        "count_merge = count.value_counts()"
      ],
      "execution_count": null,
      "outputs": []
    },
    {
      "cell_type": "code",
      "metadata": {
        "colab": {
          "base_uri": "https://localhost:8080/"
        },
        "id": "h5eQJ3EvgCcZ",
        "outputId": "80306ca5-7362-43de-ae7b-31db04fbe2fe"
      },
      "source": [
        "df_both = pd.DataFrame(count_merge).reset_index()\n",
        "df_both = df_both.rename(columns = {0: \"count\"})\n",
        "df_both = df_both.sort_values('Year', ascending=False)\n",
        "\n",
        "sns.set_theme(style=\"darkgrid\")\n",
        "ax = sns.catplot(data=df_both, kind=\"bar\", x=\"Year\", hue = 'Comics', y='count', height=5, aspect=5, palette=sns.color_palette(['purple', 'green']))\n",
        "ax.fig.suptitle('\\n Count of all Marvel (green) and DC (purple) Live Action Films produced per year')"
      ],
      "execution_count": null,
      "outputs": [
        {
          "output_type": "execute_result",
          "data": {
            "text/plain": [
              "Text(0.5, 0.98, '\\n Count of all Marvel (green) and DC (purple) Live Action Films produced per year')"
            ]
          },
          "metadata": {
            "tags": []
          },
          "execution_count": 61
        },
        {
          "output_type": "display_data",
          "data": {
            "image/png": "[encoded data removed]",
            "text/plain": [
              "<Figure size 1856.72x360 with 1 Axes>"
            ]
          },
          "metadata": {
            "tags": []
          }
        }
      ]
    },
    {
      "cell_type": "code",
      "metadata": {
        "id": "yKoHdo6xRF4p"
      },
      "source": [
        ""
      ],
      "execution_count": null,
      "outputs": []
    },
    {
      "cell_type": "code",
      "metadata": {
        "id": "GlXIopnNRF7O"
      },
      "source": [
        ""
      ],
      "execution_count": null,
      "outputs": []
    },
    {
      "cell_type": "markdown",
      "metadata": {
        "id": "9aeKD6OjRGN1"
      },
      "source": [
        "##Showing the total number of Live Action Films produced up until 2020 "
      ]
    },
    {
      "cell_type": "code",
      "metadata": {
        "colab": {
          "base_uri": "https://localhost:8080/",
          "height": 108
        },
        "id": "UfXF7HoXmXCu",
        "outputId": "01381ae8-6c81-45e3-d799-19b158fb82c0"
      },
      "source": [
        "both_sum = df_both[[\"Comics\", 'count']]\n",
        "both_sum= both_sum.groupby('Comics')['count'].sum()\n",
        "both = pd.DataFrame(both_sum).reset_index()\n",
        "both = both.rename(columns = {\"count\": \"Count of Total Live Action Films\"})\n",
        "both"
      ],
      "execution_count": null,
      "outputs": [
        {
          "output_type": "execute_result",
          "data": {
            "text/html": [
              "<div>\n",
              "<style scoped>\n",
              "    .dataframe tbody tr th:only-of-type {\n",
              "        vertical-align: middle;\n",
              "    }\n",
              "\n",
              "    .dataframe tbody tr th {\n",
              "        vertical-align: top;\n",
              "    }\n",
              "\n",
              "    .dataframe thead th {\n",
              "        text-align: right;\n",
              "    }\n",
              "</style>\n",
              "<table border=\"1\" class=\"dataframe\">\n",
              "  <thead>\n",
              "    <tr style=\"text-align: right;\">\n",
              "      <th></th>\n",
              "      <th>Comics</th>\n",
              "      <th>Count of Total Live Action Films</th>\n",
              "    </tr>\n",
              "  </thead>\n",
              "  <tbody>\n",
              "    <tr>\n",
              "      <th>0</th>\n",
              "      <td>DC</td>\n",
              "      <td>34</td>\n",
              "    </tr>\n",
              "    <tr>\n",
              "      <th>1</th>\n",
              "      <td>MC</td>\n",
              "      <td>59</td>\n",
              "    </tr>\n",
              "  </tbody>\n",
              "</table>\n",
              "</div>"
            ],
            "text/plain": [
              "  Comics  Count of Total Live Action Films\n",
              "0     DC                                34\n",
              "1     MC                                59"
            ]
          },
          "metadata": {
            "tags": []
          },
          "execution_count": 62
        }
      ]
    },
    {
      "cell_type": "code",
      "metadata": {
        "colab": {
          "base_uri": "https://localhost:8080/",
          "height": 382
        },
        "id": "r3xH62fMmGzd",
        "outputId": "61f4e104-47af-494a-e191-9b42344cf6bd"
      },
      "source": [
        "sns.set_theme(style=\"darkgrid\")\n",
        "ax = sns.catplot(data=both, kind=\"bar\", x=\"Comics\", hue = 'Comics' , y='Count of Total Live Action Films', palette=sns.color_palette(['grey', 'black']))"
      ],
      "execution_count": null,
      "outputs": [
        {
          "output_type": "display_data",
          "data": {
            "image/png": "[encoded data removed]",
            "text/plain": [
              "<Figure size 360x360 with 1 Axes>"
            ]
          },
          "metadata": {
            "tags": []
          }
        }
      ]
    },
    {
      "cell_type": "code",
      "metadata": {
        "id": "LIWjlc4rTDon"
      },
      "source": [
        ""
      ],
      "execution_count": null,
      "outputs": []
    },
    {
      "cell_type": "code",
      "metadata": {
        "id": "YiUZtWS7TDsG"
      },
      "source": [
        ""
      ],
      "execution_count": null,
      "outputs": []
    },
    {
      "cell_type": "markdown",
      "metadata": {
        "id": "Zln3Sdc3TD7D"
      },
      "source": [
        "## Showing table which contains Oscar Nomination count"
      ]
    },
    {
      "cell_type": "code",
      "metadata": {
        "id": "zOTg7XBjcQVQ",
        "colab": {
          "base_uri": "https://localhost:8080/",
          "height": 198
        },
        "outputId": "3ca04f10-c793-4102-9b27-78f904f13643"
      },
      "source": [
        "# Showing rows which contains the string \"Oscar\" in Notes column\n",
        "mcdc_o = mcdc[mcdc['Notes'].str.contains(r\"Oscar\", na=False)]\n",
        "mcdc_o.head()"
      ],
      "execution_count": null,
      "outputs": [
        {
          "output_type": "execute_result",
          "data": {
            "text/html": [
              "<div>\n",
              "<style scoped>\n",
              "    .dataframe tbody tr th:only-of-type {\n",
              "        vertical-align: middle;\n",
              "    }\n",
              "\n",
              "    .dataframe tbody tr th {\n",
              "        vertical-align: top;\n",
              "    }\n",
              "\n",
              "    .dataframe thead th {\n",
              "        text-align: right;\n",
              "    }\n",
              "</style>\n",
              "<table border=\"1\" class=\"dataframe\">\n",
              "  <thead>\n",
              "    <tr style=\"text-align: right;\">\n",
              "      <th></th>\n",
              "      <th>Year</th>\n",
              "      <th>Title</th>\n",
              "      <th>Production studio(s)</th>\n",
              "      <th>Notes</th>\n",
              "      <th>Comics</th>\n",
              "    </tr>\n",
              "  </thead>\n",
              "  <tbody>\n",
              "    <tr>\n",
              "      <th>3</th>\n",
              "      <td>1978</td>\n",
              "      <td>Superman</td>\n",
              "      <td>Dovemead Film Export A.G./International Film P...</td>\n",
              "      <td>Won 1 Special Oscar, nominated for 3 more</td>\n",
              "      <td>DC</td>\n",
              "    </tr>\n",
              "    <tr>\n",
              "      <th>10</th>\n",
              "      <td>1989</td>\n",
              "      <td>Batman</td>\n",
              "      <td>Warner Bros./PolyGram Filmed Entertainment</td>\n",
              "      <td>Won 1 Oscar</td>\n",
              "      <td>DC</td>\n",
              "    </tr>\n",
              "    <tr>\n",
              "      <th>11</th>\n",
              "      <td>1992</td>\n",
              "      <td>Batman Returns</td>\n",
              "      <td>Warner Bros./PolyGram Filmed Entertainment</td>\n",
              "      <td>Nominated for 2 Oscars</td>\n",
              "      <td>DC</td>\n",
              "    </tr>\n",
              "    <tr>\n",
              "      <th>12</th>\n",
              "      <td>1995</td>\n",
              "      <td>Batman Forever</td>\n",
              "      <td>Warner Bros./PolyGram Filmed Entertainment</td>\n",
              "      <td>Nominated for 3 Oscars</td>\n",
              "      <td>DC</td>\n",
              "    </tr>\n",
              "    <tr>\n",
              "      <th>8</th>\n",
              "      <td>2002</td>\n",
              "      <td>Spider-Man</td>\n",
              "      <td>Columbia Pictures</td>\n",
              "      <td>Nominated for 2 Oscars</td>\n",
              "      <td>MC</td>\n",
              "    </tr>\n",
              "  </tbody>\n",
              "</table>\n",
              "</div>"
            ],
            "text/plain": [
              "    Year           Title  ...                                      Notes Comics\n",
              "3   1978        Superman  ...  Won 1 Special Oscar, nominated for 3 more     DC\n",
              "10  1989          Batman  ...                                Won 1 Oscar     DC\n",
              "11  1992  Batman Returns  ...                     Nominated for 2 Oscars     DC\n",
              "12  1995  Batman Forever  ...                     Nominated for 3 Oscars     DC\n",
              "8   2002      Spider-Man  ...                     Nominated for 2 Oscars     MC\n",
              "\n",
              "[5 rows x 5 columns]"
            ]
          },
          "metadata": {
            "tags": []
          },
          "execution_count": 64
        }
      ]
    },
    {
      "cell_type": "code",
      "metadata": {
        "id": "W7Q3rv2HQrmL",
        "colab": {
          "base_uri": "https://localhost:8080/"
        },
        "outputId": "f02a8388-abad-4859-e639-f236ab463497"
      },
      "source": [
        "# Spliting strings, rearranging rows\n",
        "\n",
        "oscar = mcdc_o[[\"Notes\", \"Comics\"]]\n",
        "\n",
        "ex = oscar.set_index([\"Comics\"]).apply(lambda col: col.str.split(',').explode()).reset_index().reindex(oscar.columns, axis=1)\n",
        "ex['Notes'] = ex['Notes'].str.lstrip(\" \")\n",
        "\n",
        "ex = ex.set_index([\"Comics\"]).apply(lambda col: col.str.split(';').explode()).reset_index().reindex(ex.columns, axis=1)\n",
        "ex['Notes'] = ex['Notes'].str.lstrip(\" \")\n",
        "\n",
        "ex = ex.set_index([\"Comics\"]).apply(lambda col: col.str.split('.').explode()).reset_index().reindex(ex.columns, axis=1)\n",
        "ex['Notes'] = ex['Notes'].str.lstrip(\" \")\n",
        "# ex\n",
        "\n",
        "exo = ex[ex['Notes'].str.contains(\"(N|n)ominated|Won\")]"
      ],
      "execution_count": null,
      "outputs": [
        {
          "output_type": "stream",
          "text": [
            "/usr/local/lib/python3.7/dist-packages/pandas/core/strings.py:2001: UserWarning: This pattern has match groups. To actually get the groups, use str.extract.\n",
            "  return func(self, *args, **kwargs)\n"
          ],
          "name": "stderr"
        }
      ]
    },
    {
      "cell_type": "code",
      "metadata": {
        "id": "ICUWXU1o7aaM"
      },
      "source": [
        "# Finding integers in the strings and storing them in a new column\n",
        "lst = []\n",
        "for i in exo.index:\n",
        "  try:\n",
        "    x = re.findall('\\d+', exo['Notes'][i])\n",
        "    x=int(x[0])\n",
        "    lst.append(x)\n",
        "  except:\n",
        "    lst.append(1)\n",
        "\n",
        "exo['Nomination Count'] = lst"
      ],
      "execution_count": null,
      "outputs": []
    },
    {
      "cell_type": "markdown",
      "metadata": {
        "id": "wNBcKZdeGVpT"
      },
      "source": [
        "Recall that the Winning counts are considered as Nomination counts as they were nominated first and won later"
      ]
    },
    {
      "cell_type": "code",
      "metadata": {
        "id": "gcw7_-R0TFlq",
        "colab": {
          "base_uri": "https://localhost:8080/",
          "height": 198
        },
        "outputId": "7caf3a2f-f8be-409c-a022-6d7d2ec82ddd"
      },
      "source": [
        "exo.head()"
      ],
      "execution_count": null,
      "outputs": [
        {
          "output_type": "execute_result",
          "data": {
            "text/html": [
              "<div>\n",
              "<style scoped>\n",
              "    .dataframe tbody tr th:only-of-type {\n",
              "        vertical-align: middle;\n",
              "    }\n",
              "\n",
              "    .dataframe tbody tr th {\n",
              "        vertical-align: top;\n",
              "    }\n",
              "\n",
              "    .dataframe thead th {\n",
              "        text-align: right;\n",
              "    }\n",
              "</style>\n",
              "<table border=\"1\" class=\"dataframe\">\n",
              "  <thead>\n",
              "    <tr style=\"text-align: right;\">\n",
              "      <th></th>\n",
              "      <th>Notes</th>\n",
              "      <th>Comics</th>\n",
              "      <th>Nomination Count</th>\n",
              "    </tr>\n",
              "  </thead>\n",
              "  <tbody>\n",
              "    <tr>\n",
              "      <th>0</th>\n",
              "      <td>Won 1 Special Oscar</td>\n",
              "      <td>DC</td>\n",
              "      <td>1</td>\n",
              "    </tr>\n",
              "    <tr>\n",
              "      <th>1</th>\n",
              "      <td>nominated for 3 more</td>\n",
              "      <td>DC</td>\n",
              "      <td>3</td>\n",
              "    </tr>\n",
              "    <tr>\n",
              "      <th>2</th>\n",
              "      <td>Won 1 Oscar</td>\n",
              "      <td>DC</td>\n",
              "      <td>1</td>\n",
              "    </tr>\n",
              "    <tr>\n",
              "      <th>3</th>\n",
              "      <td>Nominated for 2 Oscars</td>\n",
              "      <td>DC</td>\n",
              "      <td>2</td>\n",
              "    </tr>\n",
              "    <tr>\n",
              "      <th>4</th>\n",
              "      <td>Nominated for 3 Oscars</td>\n",
              "      <td>DC</td>\n",
              "      <td>3</td>\n",
              "    </tr>\n",
              "  </tbody>\n",
              "</table>\n",
              "</div>"
            ],
            "text/plain": [
              "                    Notes Comics  Nomination Count\n",
              "0     Won 1 Special Oscar     DC                 1\n",
              "1    nominated for 3 more     DC                 3\n",
              "2             Won 1 Oscar     DC                 1\n",
              "3  Nominated for 2 Oscars     DC                 2\n",
              "4  Nominated for 3 Oscars     DC                 3"
            ]
          },
          "metadata": {
            "tags": []
          },
          "execution_count": 81
        }
      ]
    },
    {
      "cell_type": "code",
      "metadata": {
        "id": "X17hxXzwTFow"
      },
      "source": [
        ""
      ],
      "execution_count": null,
      "outputs": []
    },
    {
      "cell_type": "markdown",
      "metadata": {
        "id": "AZaW3UncTF5n"
      },
      "source": [
        "## Giving insights on which comics publication based films got more nominations for the Oscars than the other"
      ]
    },
    {
      "cell_type": "markdown",
      "metadata": {
        "id": "lzcS3OehIKJR"
      },
      "source": [
        "Finding the Total Nomination Count for DC and MC"
      ]
    },
    {
      "cell_type": "code",
      "metadata": {
        "id": "2JfCJGrv7afG",
        "colab": {
          "base_uri": "https://localhost:8080/"
        },
        "outputId": "d8bd4492-6ea0-41e8-fd98-6d4da012fe7f"
      },
      "source": [
        "exo_nom = exo[[\"Comics\", 'Nomination Count']]\n",
        "exo_nom_cat= exo_nom.groupby(\"Comics\")['Nomination Count'].sum()\n",
        "exo_nom_cat"
      ],
      "execution_count": null,
      "outputs": [
        {
          "output_type": "execute_result",
          "data": {
            "text/plain": [
              "Comics\n",
              "DC    32\n",
              "MC    26\n",
              "Name: Nomination Count, dtype: int64"
            ]
          },
          "metadata": {
            "tags": []
          },
          "execution_count": 67
        }
      ]
    },
    {
      "cell_type": "code",
      "metadata": {
        "id": "fE4HQkn1IWHP"
      },
      "source": [
        ""
      ],
      "execution_count": null,
      "outputs": []
    },
    {
      "cell_type": "markdown",
      "metadata": {
        "id": "7F5rkYLkIWTf"
      },
      "source": [
        "Finding the Total Number of Films based on DC and MC that got nominations"
      ]
    },
    {
      "cell_type": "code",
      "metadata": {
        "id": "kyQesw1j7ag5",
        "colab": {
          "base_uri": "https://localhost:8080/"
        },
        "outputId": "a3e5ea09-a69d-4bc2-b048-49cc4334151c"
      },
      "source": [
        "nomcount = pd.DataFrame(exo_nom_cat).reset_index()\n",
        "nomcount = nomcount.rename(columns = {'Nomination Count': \"Total Oscar Nomination Count\"})\n",
        "m_oscar = oscar[\"Comics\"].value_counts()\n",
        "m_oscar"
      ],
      "execution_count": null,
      "outputs": [
        {
          "output_type": "execute_result",
          "data": {
            "text/plain": [
              "MC    15\n",
              "DC     9\n",
              "Name: Comics, dtype: int64"
            ]
          },
          "metadata": {
            "tags": []
          },
          "execution_count": 82
        }
      ]
    },
    {
      "cell_type": "code",
      "metadata": {
        "id": "ZCBEefaxJDkh"
      },
      "source": [
        ""
      ],
      "execution_count": null,
      "outputs": []
    },
    {
      "cell_type": "markdown",
      "metadata": {
        "id": "GKjG9bR8Iq5U"
      },
      "source": [
        "Notice the color corresponding to each publication"
      ]
    },
    {
      "cell_type": "code",
      "metadata": {
        "colab": {
          "base_uri": "https://localhost:8080/",
          "height": 820
        },
        "id": "EuAuSOomJEHV",
        "outputId": "abc8546a-be01-46f6-bc4b-4b5ac911ad62"
      },
      "source": [
        "moviecount = pd.DataFrame(m_oscar).reset_index()\n",
        "moviecount = moviecount.rename(columns = {'index': \"Comics\", \"Comics\":\"Count of Live Action Films for Oscar Nomination\"})\n",
        "\n",
        "sns.set(style=\"ticks\")\n",
        "fig, axs = plt.subplots(1,2)\n",
        "sns.catplot(data=nomcount, kind=\"bar\", x=\"Comics\", hue = \"Comics\", y='Total Oscar Nomination Count', ax=axs[0], palette=sns.color_palette(['purple', 'green']))\n",
        "sns.catplot(data=moviecount, kind=\"bar\", x=\"Comics\", hue = \"Comics\", y=\"Count of Live Action Films for Oscar Nomination\", ax=axs[1],  palette=sns.color_palette(['green', 'purple']))\n",
        "plt.close(1)\n",
        "fig.tight_layout()"
      ],
      "execution_count": null,
      "outputs": [
        {
          "output_type": "stream",
          "text": [
            "/usr/local/lib/python3.7/dist-packages/seaborn/categorical.py:3772: UserWarning: catplot is a figure-level function and does not accept target axes. You may wish to try barplot\n",
            "  warnings.warn(msg, UserWarning)\n",
            "/usr/local/lib/python3.7/dist-packages/seaborn/categorical.py:3772: UserWarning: catplot is a figure-level function and does not accept target axes. You may wish to try barplot\n",
            "  warnings.warn(msg, UserWarning)\n"
          ],
          "name": "stderr"
        },
        {
          "output_type": "display_data",
          "data": {
            "image/png": "[encoded data removed]",
            "text/plain": [
              "<Figure size 360x360 with 1 Axes>"
            ]
          },
          "metadata": {
            "tags": []
          }
        },
        {
          "output_type": "display_data",
          "data": {
            "image/png": "[encoded data removed]",
            "text/plain": [
              "<Figure size 360x360 with 1 Axes>"
            ]
          },
          "metadata": {
            "tags": []
          }
        }
      ]
    },
    {
      "cell_type": "markdown",
      "metadata": {
        "id": "yMsRZuWkBplu"
      },
      "source": [
        "Interestingly, 9 DC Live Action Films had 32 nominations for the Oscars and 15 Marvel Comics Live Action Films (being more than DC) had overall 26 nominations (being less than DC)\n",
        "\n",
        "In the next section, let's figure out which DC Action Film(s) are responsible for beating Marvel's Oscar nomination count by getting 32-26 = 6 more nominations."
      ]
    },
    {
      "cell_type": "code",
      "metadata": {
        "id": "eQkKluy0TQ33"
      },
      "source": [
        ""
      ],
      "execution_count": null,
      "outputs": []
    },
    {
      "cell_type": "code",
      "metadata": {
        "id": "OfcLoRL5TQ6f"
      },
      "source": [
        ""
      ],
      "execution_count": null,
      "outputs": []
    },
    {
      "cell_type": "markdown",
      "metadata": {
        "id": "WDo1zDszTRLD"
      },
      "source": [
        "##Finding the Live Action Film(s) based on the comics which is/are responsible for beating the other in nomination count"
      ]
    },
    {
      "cell_type": "markdown",
      "metadata": {
        "id": "33fnOiuL_EnB"
      },
      "source": [
        "Since DC has more nomination count than Marvel, Let's bring all DC films which got nominations and count their total nominations individually"
      ]
    },
    {
      "cell_type": "code",
      "metadata": {
        "colab": {
          "base_uri": "https://localhost:8080/",
          "height": 318
        },
        "id": "bR0fSOL3gFF-",
        "outputId": "1fad5816-7cfc-4048-ea08-c62c6a94c5eb"
      },
      "source": [
        "tncat_o = mcdc_o[[\"Year\",\"Title\", \"Notes\", \"Comics\"]]\n",
        "max_dc = tncat_o.loc[tncat_o[\"Comics\"] == 'DC']\n",
        "max_dc"
      ],
      "execution_count": null,
      "outputs": [
        {
          "output_type": "execute_result",
          "data": {
            "text/html": [
              "<div>\n",
              "<style scoped>\n",
              "    .dataframe tbody tr th:only-of-type {\n",
              "        vertical-align: middle;\n",
              "    }\n",
              "\n",
              "    .dataframe tbody tr th {\n",
              "        vertical-align: top;\n",
              "    }\n",
              "\n",
              "    .dataframe thead th {\n",
              "        text-align: right;\n",
              "    }\n",
              "</style>\n",
              "<table border=\"1\" class=\"dataframe\">\n",
              "  <thead>\n",
              "    <tr style=\"text-align: right;\">\n",
              "      <th></th>\n",
              "      <th>Year</th>\n",
              "      <th>Title</th>\n",
              "      <th>Notes</th>\n",
              "      <th>Comics</th>\n",
              "    </tr>\n",
              "  </thead>\n",
              "  <tbody>\n",
              "    <tr>\n",
              "      <th>3</th>\n",
              "      <td>1978</td>\n",
              "      <td>Superman</td>\n",
              "      <td>Won 1 Special Oscar, nominated for 3 more</td>\n",
              "      <td>DC</td>\n",
              "    </tr>\n",
              "    <tr>\n",
              "      <th>10</th>\n",
              "      <td>1989</td>\n",
              "      <td>Batman</td>\n",
              "      <td>Won 1 Oscar</td>\n",
              "      <td>DC</td>\n",
              "    </tr>\n",
              "    <tr>\n",
              "      <th>11</th>\n",
              "      <td>1992</td>\n",
              "      <td>Batman Returns</td>\n",
              "      <td>Nominated for 2 Oscars</td>\n",
              "      <td>DC</td>\n",
              "    </tr>\n",
              "    <tr>\n",
              "      <th>12</th>\n",
              "      <td>1995</td>\n",
              "      <td>Batman Forever</td>\n",
              "      <td>Nominated for 3 Oscars</td>\n",
              "      <td>DC</td>\n",
              "    </tr>\n",
              "    <tr>\n",
              "      <th>17</th>\n",
              "      <td>2005</td>\n",
              "      <td>Batman Begins</td>\n",
              "      <td>Reboot; nominated for an Oscar</td>\n",
              "      <td>DC</td>\n",
              "    </tr>\n",
              "    <tr>\n",
              "      <th>18</th>\n",
              "      <td>2006</td>\n",
              "      <td>Superman Returns</td>\n",
              "      <td>Alternate trilogy conclusion only to Superman ...</td>\n",
              "      <td>DC</td>\n",
              "    </tr>\n",
              "    <tr>\n",
              "      <th>19</th>\n",
              "      <td>2008</td>\n",
              "      <td>The Dark Knight</td>\n",
              "      <td>Won 2 Oscars, nominated for 6 more</td>\n",
              "      <td>DC</td>\n",
              "    </tr>\n",
              "    <tr>\n",
              "      <th>26</th>\n",
              "      <td>2016</td>\n",
              "      <td>Suicide Squad</td>\n",
              "      <td>Set in the DCEU. Won an Oscar.</td>\n",
              "      <td>DC</td>\n",
              "    </tr>\n",
              "    <tr>\n",
              "      <th>31</th>\n",
              "      <td>2019</td>\n",
              "      <td>Joker</td>\n",
              "      <td>Won 2 Oscars, nominated for 9 more</td>\n",
              "      <td>DC</td>\n",
              "    </tr>\n",
              "  </tbody>\n",
              "</table>\n",
              "</div>"
            ],
            "text/plain": [
              "    Year  ... Comics\n",
              "3   1978  ...     DC\n",
              "10  1989  ...     DC\n",
              "11  1992  ...     DC\n",
              "12  1995  ...     DC\n",
              "17  2005  ...     DC\n",
              "18  2006  ...     DC\n",
              "19  2008  ...     DC\n",
              "26  2016  ...     DC\n",
              "31  2019  ...     DC\n",
              "\n",
              "[9 rows x 4 columns]"
            ]
          },
          "metadata": {
            "tags": []
          },
          "execution_count": 72
        }
      ]
    },
    {
      "cell_type": "code",
      "metadata": {
        "colab": {
          "base_uri": "https://localhost:8080/"
        },
        "id": "w-zr6ZsKrxxr",
        "outputId": "74be34ae-33f3-4b61-bbd9-08bd8b411a8d"
      },
      "source": [
        "# Finding nomination counts as integer within the strings and storin them in a list\n",
        "pst = []\n",
        "for p in max_dc.index:\n",
        "  x = re.findall('\\d+', max_dc['Notes'][p])\n",
        "  pst.append(x)\n",
        "\n",
        "for h in pst:\n",
        "  if len(h)==0:\n",
        "    h.append(1)\n",
        "  if len(h)==2:\n",
        "    h[0]=int(h[0])\n",
        "    h[1]=int(h[1])\n",
        "  if len(h)==1:\n",
        "    h[0]=int(h[0])\n",
        "\n",
        "for q in range(len(pst)):\n",
        "  if len(pst[q])==2:\n",
        "    pst[q]=pst[q][0]+pst[q][1]\n",
        "      \n",
        "flattened_list = flatten(pst)\n",
        "print(flattened_list)"
      ],
      "execution_count": null,
      "outputs": [
        {
          "output_type": "stream",
          "text": [
            "[4, 1, 2, 3, 1, 1, 8, 1, 11]\n"
          ],
          "name": "stdout"
        }
      ]
    },
    {
      "cell_type": "code",
      "metadata": {
        "id": "qX8zTFWxAS0b",
        "colab": {
          "base_uri": "https://localhost:8080/",
          "height": 427
        },
        "outputId": "2a480767-7be6-4d76-c040-d6dae0bfd865"
      },
      "source": [
        "max_dc['Nomination Count'] = flattened_list\n",
        "max_dc"
      ],
      "execution_count": null,
      "outputs": [
        {
          "output_type": "stream",
          "text": [
            "/usr/local/lib/python3.7/dist-packages/ipykernel_launcher.py:1: SettingWithCopyWarning: \n",
            "A value is trying to be set on a copy of a slice from a DataFrame.\n",
            "Try using .loc[row_indexer,col_indexer] = value instead\n",
            "\n",
            "See the caveats in the documentation: https://pandas.pydata.org/pandas-docs/stable/user_guide/indexing.html#returning-a-view-versus-a-copy\n",
            "  \"\"\"Entry point for launching an IPython kernel.\n"
          ],
          "name": "stderr"
        },
        {
          "output_type": "execute_result",
          "data": {
            "text/html": [
              "<div>\n",
              "<style scoped>\n",
              "    .dataframe tbody tr th:only-of-type {\n",
              "        vertical-align: middle;\n",
              "    }\n",
              "\n",
              "    .dataframe tbody tr th {\n",
              "        vertical-align: top;\n",
              "    }\n",
              "\n",
              "    .dataframe thead th {\n",
              "        text-align: right;\n",
              "    }\n",
              "</style>\n",
              "<table border=\"1\" class=\"dataframe\">\n",
              "  <thead>\n",
              "    <tr style=\"text-align: right;\">\n",
              "      <th></th>\n",
              "      <th>Year</th>\n",
              "      <th>Title</th>\n",
              "      <th>Notes</th>\n",
              "      <th>Comics</th>\n",
              "      <th>Nomination Count</th>\n",
              "    </tr>\n",
              "  </thead>\n",
              "  <tbody>\n",
              "    <tr>\n",
              "      <th>3</th>\n",
              "      <td>1978</td>\n",
              "      <td>Superman</td>\n",
              "      <td>Won 1 Special Oscar, nominated for 3 more</td>\n",
              "      <td>DC</td>\n",
              "      <td>4</td>\n",
              "    </tr>\n",
              "    <tr>\n",
              "      <th>10</th>\n",
              "      <td>1989</td>\n",
              "      <td>Batman</td>\n",
              "      <td>Won 1 Oscar</td>\n",
              "      <td>DC</td>\n",
              "      <td>1</td>\n",
              "    </tr>\n",
              "    <tr>\n",
              "      <th>11</th>\n",
              "      <td>1992</td>\n",
              "      <td>Batman Returns</td>\n",
              "      <td>Nominated for 2 Oscars</td>\n",
              "      <td>DC</td>\n",
              "      <td>2</td>\n",
              "    </tr>\n",
              "    <tr>\n",
              "      <th>12</th>\n",
              "      <td>1995</td>\n",
              "      <td>Batman Forever</td>\n",
              "      <td>Nominated for 3 Oscars</td>\n",
              "      <td>DC</td>\n",
              "      <td>3</td>\n",
              "    </tr>\n",
              "    <tr>\n",
              "      <th>17</th>\n",
              "      <td>2005</td>\n",
              "      <td>Batman Begins</td>\n",
              "      <td>Reboot; nominated for an Oscar</td>\n",
              "      <td>DC</td>\n",
              "      <td>1</td>\n",
              "    </tr>\n",
              "    <tr>\n",
              "      <th>18</th>\n",
              "      <td>2006</td>\n",
              "      <td>Superman Returns</td>\n",
              "      <td>Alternate trilogy conclusion only to Superman ...</td>\n",
              "      <td>DC</td>\n",
              "      <td>1</td>\n",
              "    </tr>\n",
              "    <tr>\n",
              "      <th>19</th>\n",
              "      <td>2008</td>\n",
              "      <td>The Dark Knight</td>\n",
              "      <td>Won 2 Oscars, nominated for 6 more</td>\n",
              "      <td>DC</td>\n",
              "      <td>8</td>\n",
              "    </tr>\n",
              "    <tr>\n",
              "      <th>26</th>\n",
              "      <td>2016</td>\n",
              "      <td>Suicide Squad</td>\n",
              "      <td>Set in the DCEU. Won an Oscar.</td>\n",
              "      <td>DC</td>\n",
              "      <td>1</td>\n",
              "    </tr>\n",
              "    <tr>\n",
              "      <th>31</th>\n",
              "      <td>2019</td>\n",
              "      <td>Joker</td>\n",
              "      <td>Won 2 Oscars, nominated for 9 more</td>\n",
              "      <td>DC</td>\n",
              "      <td>11</td>\n",
              "    </tr>\n",
              "  </tbody>\n",
              "</table>\n",
              "</div>"
            ],
            "text/plain": [
              "    Year             Title  ... Comics Nomination Count\n",
              "3   1978          Superman  ...     DC                4\n",
              "10  1989            Batman  ...     DC                1\n",
              "11  1992    Batman Returns  ...     DC                2\n",
              "12  1995    Batman Forever  ...     DC                3\n",
              "17  2005     Batman Begins  ...     DC                1\n",
              "18  2006  Superman Returns  ...     DC                1\n",
              "19  2008   The Dark Knight  ...     DC                8\n",
              "26  2016     Suicide Squad  ...     DC                1\n",
              "31  2019             Joker  ...     DC               11\n",
              "\n",
              "[9 rows x 5 columns]"
            ]
          },
          "metadata": {
            "tags": []
          },
          "execution_count": 74
        }
      ]
    },
    {
      "cell_type": "code",
      "metadata": {
        "colab": {
          "base_uri": "https://localhost:8080/",
          "height": 78
        },
        "id": "X8pxMMVtX0gs",
        "outputId": "6cec1eb0-5b6c-449a-fe73-4314f51a84d4"
      },
      "source": [
        "max_dc1 = max_dc[max_dc['Nomination Count']==max_dc['Nomination Count'].max()]\n",
        "max_dc1"
      ],
      "execution_count": null,
      "outputs": [
        {
          "output_type": "execute_result",
          "data": {
            "text/html": [
              "<div>\n",
              "<style scoped>\n",
              "    .dataframe tbody tr th:only-of-type {\n",
              "        vertical-align: middle;\n",
              "    }\n",
              "\n",
              "    .dataframe tbody tr th {\n",
              "        vertical-align: top;\n",
              "    }\n",
              "\n",
              "    .dataframe thead th {\n",
              "        text-align: right;\n",
              "    }\n",
              "</style>\n",
              "<table border=\"1\" class=\"dataframe\">\n",
              "  <thead>\n",
              "    <tr style=\"text-align: right;\">\n",
              "      <th></th>\n",
              "      <th>Year</th>\n",
              "      <th>Title</th>\n",
              "      <th>Notes</th>\n",
              "      <th>Comics</th>\n",
              "      <th>Nomination Count</th>\n",
              "    </tr>\n",
              "  </thead>\n",
              "  <tbody>\n",
              "    <tr>\n",
              "      <th>31</th>\n",
              "      <td>2019</td>\n",
              "      <td>Joker</td>\n",
              "      <td>Won 2 Oscars, nominated for 9 more</td>\n",
              "      <td>DC</td>\n",
              "      <td>11</td>\n",
              "    </tr>\n",
              "  </tbody>\n",
              "</table>\n",
              "</div>"
            ],
            "text/plain": [
              "    Year  Title                               Notes Comics  Nomination Count\n",
              "31  2019  Joker  Won 2 Oscars, nominated for 9 more     DC                11"
            ]
          },
          "metadata": {
            "tags": []
          },
          "execution_count": 75
        }
      ]
    },
    {
      "cell_type": "markdown",
      "metadata": {
        "id": "JrRaVfzfXPJA"
      },
      "source": [
        "So, in 2019, the film \"Joker\" really pulled up DC's overall nomination count beating Marvel"
      ]
    },
    {
      "cell_type": "markdown",
      "metadata": {
        "id": "h93iNVTdBKm1"
      },
      "source": [
        "But which publication Won more Oscars? Marvel Comics or DC Comics?\n",
        "\n",
        "Let's find out in the next section."
      ]
    },
    {
      "cell_type": "code",
      "metadata": {
        "id": "bQbYXH3pTVNR"
      },
      "source": [
        ""
      ],
      "execution_count": null,
      "outputs": []
    },
    {
      "cell_type": "code",
      "metadata": {
        "id": "Hdn0x8zGTVPi"
      },
      "source": [
        ""
      ],
      "execution_count": null,
      "outputs": []
    },
    {
      "cell_type": "markdown",
      "metadata": {
        "id": "83DQYAkpTWR1"
      },
      "source": [
        "##Finding which publication has the most winning counts for Oscars based on Live Action Films"
      ]
    },
    {
      "cell_type": "code",
      "metadata": {
        "id": "u0BetPhd4fMw",
        "colab": {
          "base_uri": "https://localhost:8080/",
          "height": 295
        },
        "outputId": "27deb3ed-4b63-413b-8431-d308992b535b"
      },
      "source": [
        "won_o = exo[exo['Notes'].str.contains(r\"(W|w)on\", na=False)]\n",
        "won_o"
      ],
      "execution_count": null,
      "outputs": [
        {
          "output_type": "stream",
          "text": [
            "/usr/local/lib/python3.7/dist-packages/pandas/core/strings.py:2001: UserWarning: This pattern has match groups. To actually get the groups, use str.extract.\n",
            "  return func(self, *args, **kwargs)\n"
          ],
          "name": "stderr"
        },
        {
          "output_type": "execute_result",
          "data": {
            "text/html": [
              "<div>\n",
              "<style scoped>\n",
              "    .dataframe tbody tr th:only-of-type {\n",
              "        vertical-align: middle;\n",
              "    }\n",
              "\n",
              "    .dataframe tbody tr th {\n",
              "        vertical-align: top;\n",
              "    }\n",
              "\n",
              "    .dataframe thead th {\n",
              "        text-align: right;\n",
              "    }\n",
              "</style>\n",
              "<table border=\"1\" class=\"dataframe\">\n",
              "  <thead>\n",
              "    <tr style=\"text-align: right;\">\n",
              "      <th></th>\n",
              "      <th>Notes</th>\n",
              "      <th>Comics</th>\n",
              "      <th>Nomination Count</th>\n",
              "    </tr>\n",
              "  </thead>\n",
              "  <tbody>\n",
              "    <tr>\n",
              "      <th>0</th>\n",
              "      <td>Won 1 Special Oscar</td>\n",
              "      <td>DC</td>\n",
              "      <td>1</td>\n",
              "    </tr>\n",
              "    <tr>\n",
              "      <th>2</th>\n",
              "      <td>Won 1 Oscar</td>\n",
              "      <td>DC</td>\n",
              "      <td>1</td>\n",
              "    </tr>\n",
              "    <tr>\n",
              "      <th>6</th>\n",
              "      <td>Won 1 Oscar</td>\n",
              "      <td>MC</td>\n",
              "      <td>1</td>\n",
              "    </tr>\n",
              "    <tr>\n",
              "      <th>13</th>\n",
              "      <td>Won 2 Oscars</td>\n",
              "      <td>DC</td>\n",
              "      <td>2</td>\n",
              "    </tr>\n",
              "    <tr>\n",
              "      <th>26</th>\n",
              "      <td>Won an Oscar</td>\n",
              "      <td>DC</td>\n",
              "      <td>1</td>\n",
              "    </tr>\n",
              "    <tr>\n",
              "      <th>31</th>\n",
              "      <td>Won 3 Oscars</td>\n",
              "      <td>MC</td>\n",
              "      <td>3</td>\n",
              "    </tr>\n",
              "    <tr>\n",
              "      <th>34</th>\n",
              "      <td>Won 2 Oscars</td>\n",
              "      <td>DC</td>\n",
              "      <td>2</td>\n",
              "    </tr>\n",
              "  </tbody>\n",
              "</table>\n",
              "</div>"
            ],
            "text/plain": [
              "                  Notes Comics  Nomination Count\n",
              "0   Won 1 Special Oscar     DC                 1\n",
              "2           Won 1 Oscar     DC                 1\n",
              "6           Won 1 Oscar     MC                 1\n",
              "13         Won 2 Oscars     DC                 2\n",
              "26         Won an Oscar     DC                 1\n",
              "31         Won 3 Oscars     MC                 3\n",
              "34         Won 2 Oscars     DC                 2"
            ]
          },
          "metadata": {
            "tags": []
          },
          "execution_count": 76
        }
      ]
    },
    {
      "cell_type": "code",
      "metadata": {
        "colab": {
          "base_uri": "https://localhost:8080/"
        },
        "id": "79Pw9ljyBsWI",
        "outputId": "3542c67c-dc92-41af-e0e6-7c7d4ddac60c"
      },
      "source": [
        "win_count = won_o.groupby(\"Comics\")['Nomination Count'].sum()\n",
        "win_count"
      ],
      "execution_count": null,
      "outputs": [
        {
          "output_type": "execute_result",
          "data": {
            "text/plain": [
              "Comics\n",
              "DC    7\n",
              "MC    4\n",
              "Name: Nomination Count, dtype: int64"
            ]
          },
          "metadata": {
            "tags": []
          },
          "execution_count": 77
        }
      ]
    },
    {
      "cell_type": "markdown",
      "metadata": {
        "id": "jvttH-6aEvkK"
      },
      "source": [
        "DC Films beat the Marvel Films on winning the Oscars!"
      ]
    },
    {
      "cell_type": "markdown",
      "metadata": {
        "id": "JSRNz58qqB3N"
      },
      "source": [
        "##CONCLUSION"
      ]
    },
    {
      "cell_type": "markdown",
      "metadata": {
        "id": "m9lO5NBeBPqu"
      },
      "source": [
        "The purpose of webscraping, cleaning and analysing the data had been fulfilled. It was a very interesting topic to work with. The coding was mostly focused on fixing and rearranging the rows and needed a lot of calculations.\n",
        "\n",
        "I found out that majority of the films based on Marvel got nominations than the films based on DC. But DC films got nominations in more categories than Marvel and beat Marvel by winning more Oscars as well!\n",
        "\n",
        "However, whether DCU or MCU, I like to watch all of their films!"
      ]
    },
    {
      "cell_type": "code",
      "metadata": {
        "id": "QFttckhrEjia"
      },
      "source": [
        ""
      ],
      "execution_count": null,
      "outputs": []
    }
  ]
}